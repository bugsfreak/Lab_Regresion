{
 "cells": [
  {
   "cell_type": "markdown",
   "id": "8b6f603c",
   "metadata": {},
   "source": [
    "<center><h1>Técnicas de Inteligencia Artificial</header1></center>"
   ]
  },
  {
   "cell_type": "markdown",
   "id": "3eb1aaac",
   "metadata": {},
   "source": [
    "Presentado por: Raymond Dávila  <br>\n",
    "Fecha: 18/07/2022"
   ]
  },
  {
   "cell_type": "markdown",
   "id": "1dec299b",
   "metadata": {
    "ExecuteTime": {
     "end_time": "2022-03-14T15:14:04.930713Z",
     "start_time": "2022-03-14T15:14:04.921682Z"
    }
   },
   "source": [
    "# Importación de librerias necesarias"
   ]
  },
  {
   "cell_type": "code",
   "execution_count": 24,
   "id": "6d1abf7a",
   "metadata": {
    "ExecuteTime": {
     "end_time": "2022-03-14T15:14:46.228059Z",
     "start_time": "2022-03-14T15:14:46.223108Z"
    }
   },
   "outputs": [],
   "source": [
    "#Para esta actividad se importarán las siguientes librerías:\n",
    "import pandas as pd\n",
    "import numpy as np\n",
    "import matplotlib.pyplot as plt"
   ]
  },
  {
   "cell_type": "markdown",
   "id": "6a44b924",
   "metadata": {},
   "source": [
    "## Cargar el Dataset"
   ]
  },
  {
   "cell_type": "code",
   "execution_count": 25,
   "id": "3541e808",
   "metadata": {},
   "outputs": [
    {
     "name": "stdout",
     "output_type": "stream",
     "text": [
      "<class 'pandas.core.frame.DataFrame'>\n",
      "RangeIndex: 1338 entries, 0 to 1337\n",
      "Data columns (total 7 columns):\n",
      " #   Column    Non-Null Count  Dtype  \n",
      "---  ------    --------------  -----  \n",
      " 0   age       1338 non-null   int64  \n",
      " 1   sex       1338 non-null   object \n",
      " 2   bmi       1338 non-null   float64\n",
      " 3   children  1338 non-null   int64  \n",
      " 4   smoker    1338 non-null   object \n",
      " 5   region    1338 non-null   object \n",
      " 6   charges   1338 non-null   float64\n",
      "dtypes: float64(2), int64(2), object(3)\n",
      "memory usage: 73.3+ KB\n"
     ]
    }
   ],
   "source": [
    "#Código para cargar el Dataset\n",
    "dsMedical = pd.read_csv('insurance.csv')\n",
    "dsMedical.info()"
   ]
  },
  {
   "cell_type": "code",
   "execution_count": 26,
   "id": "15534775",
   "metadata": {},
   "outputs": [],
   "source": [
    "from sklearn.preprocessing import LabelEncoder\n",
    "\n",
    "labelencoder = LabelEncoder()\n",
    "\n",
    "dsMedical['sex_N'] = labelencoder.fit_transform(dsMedical['sex'])\n",
    "dsMedical['smoker_N'] = labelencoder.fit_transform(dsMedical['smoker'])\n",
    "dsMedical['region_N'] = labelencoder.fit_transform(dsMedical['region'])\n"
   ]
  },
  {
   "cell_type": "code",
   "execution_count": 27,
   "id": "6ab0742c",
   "metadata": {},
   "outputs": [
    {
     "data": {
      "text/html": [
       "<div>\n",
       "<style scoped>\n",
       "    .dataframe tbody tr th:only-of-type {\n",
       "        vertical-align: middle;\n",
       "    }\n",
       "\n",
       "    .dataframe tbody tr th {\n",
       "        vertical-align: top;\n",
       "    }\n",
       "\n",
       "    .dataframe thead th {\n",
       "        text-align: right;\n",
       "    }\n",
       "</style>\n",
       "<table border=\"1\" class=\"dataframe\">\n",
       "  <thead>\n",
       "    <tr style=\"text-align: right;\">\n",
       "      <th></th>\n",
       "      <th>age</th>\n",
       "      <th>sex</th>\n",
       "      <th>bmi</th>\n",
       "      <th>children</th>\n",
       "      <th>smoker</th>\n",
       "      <th>region</th>\n",
       "      <th>charges</th>\n",
       "      <th>sex_N</th>\n",
       "      <th>smoker_N</th>\n",
       "      <th>region_N</th>\n",
       "    </tr>\n",
       "  </thead>\n",
       "  <tbody>\n",
       "    <tr>\n",
       "      <th>0</th>\n",
       "      <td>19</td>\n",
       "      <td>female</td>\n",
       "      <td>27.900</td>\n",
       "      <td>0</td>\n",
       "      <td>yes</td>\n",
       "      <td>southwest</td>\n",
       "      <td>16884.92400</td>\n",
       "      <td>0</td>\n",
       "      <td>1</td>\n",
       "      <td>3</td>\n",
       "    </tr>\n",
       "    <tr>\n",
       "      <th>1</th>\n",
       "      <td>18</td>\n",
       "      <td>male</td>\n",
       "      <td>33.770</td>\n",
       "      <td>1</td>\n",
       "      <td>no</td>\n",
       "      <td>southeast</td>\n",
       "      <td>1725.55230</td>\n",
       "      <td>1</td>\n",
       "      <td>0</td>\n",
       "      <td>2</td>\n",
       "    </tr>\n",
       "    <tr>\n",
       "      <th>2</th>\n",
       "      <td>28</td>\n",
       "      <td>male</td>\n",
       "      <td>33.000</td>\n",
       "      <td>3</td>\n",
       "      <td>no</td>\n",
       "      <td>southeast</td>\n",
       "      <td>4449.46200</td>\n",
       "      <td>1</td>\n",
       "      <td>0</td>\n",
       "      <td>2</td>\n",
       "    </tr>\n",
       "    <tr>\n",
       "      <th>3</th>\n",
       "      <td>33</td>\n",
       "      <td>male</td>\n",
       "      <td>22.705</td>\n",
       "      <td>0</td>\n",
       "      <td>no</td>\n",
       "      <td>northwest</td>\n",
       "      <td>21984.47061</td>\n",
       "      <td>1</td>\n",
       "      <td>0</td>\n",
       "      <td>1</td>\n",
       "    </tr>\n",
       "    <tr>\n",
       "      <th>4</th>\n",
       "      <td>32</td>\n",
       "      <td>male</td>\n",
       "      <td>28.880</td>\n",
       "      <td>0</td>\n",
       "      <td>no</td>\n",
       "      <td>northwest</td>\n",
       "      <td>3866.85520</td>\n",
       "      <td>1</td>\n",
       "      <td>0</td>\n",
       "      <td>1</td>\n",
       "    </tr>\n",
       "    <tr>\n",
       "      <th>...</th>\n",
       "      <td>...</td>\n",
       "      <td>...</td>\n",
       "      <td>...</td>\n",
       "      <td>...</td>\n",
       "      <td>...</td>\n",
       "      <td>...</td>\n",
       "      <td>...</td>\n",
       "      <td>...</td>\n",
       "      <td>...</td>\n",
       "      <td>...</td>\n",
       "    </tr>\n",
       "    <tr>\n",
       "      <th>1333</th>\n",
       "      <td>50</td>\n",
       "      <td>male</td>\n",
       "      <td>30.970</td>\n",
       "      <td>3</td>\n",
       "      <td>no</td>\n",
       "      <td>northwest</td>\n",
       "      <td>10600.54830</td>\n",
       "      <td>1</td>\n",
       "      <td>0</td>\n",
       "      <td>1</td>\n",
       "    </tr>\n",
       "    <tr>\n",
       "      <th>1334</th>\n",
       "      <td>18</td>\n",
       "      <td>female</td>\n",
       "      <td>31.920</td>\n",
       "      <td>0</td>\n",
       "      <td>no</td>\n",
       "      <td>northeast</td>\n",
       "      <td>2205.98080</td>\n",
       "      <td>0</td>\n",
       "      <td>0</td>\n",
       "      <td>0</td>\n",
       "    </tr>\n",
       "    <tr>\n",
       "      <th>1335</th>\n",
       "      <td>18</td>\n",
       "      <td>female</td>\n",
       "      <td>36.850</td>\n",
       "      <td>0</td>\n",
       "      <td>no</td>\n",
       "      <td>southeast</td>\n",
       "      <td>1629.83350</td>\n",
       "      <td>0</td>\n",
       "      <td>0</td>\n",
       "      <td>2</td>\n",
       "    </tr>\n",
       "    <tr>\n",
       "      <th>1336</th>\n",
       "      <td>21</td>\n",
       "      <td>female</td>\n",
       "      <td>25.800</td>\n",
       "      <td>0</td>\n",
       "      <td>no</td>\n",
       "      <td>southwest</td>\n",
       "      <td>2007.94500</td>\n",
       "      <td>0</td>\n",
       "      <td>0</td>\n",
       "      <td>3</td>\n",
       "    </tr>\n",
       "    <tr>\n",
       "      <th>1337</th>\n",
       "      <td>61</td>\n",
       "      <td>female</td>\n",
       "      <td>29.070</td>\n",
       "      <td>0</td>\n",
       "      <td>yes</td>\n",
       "      <td>northwest</td>\n",
       "      <td>29141.36030</td>\n",
       "      <td>0</td>\n",
       "      <td>1</td>\n",
       "      <td>1</td>\n",
       "    </tr>\n",
       "  </tbody>\n",
       "</table>\n",
       "<p>1338 rows × 10 columns</p>\n",
       "</div>"
      ],
      "text/plain": [
       "      age     sex     bmi  children smoker     region      charges  sex_N  \\\n",
       "0      19  female  27.900         0    yes  southwest  16884.92400      0   \n",
       "1      18    male  33.770         1     no  southeast   1725.55230      1   \n",
       "2      28    male  33.000         3     no  southeast   4449.46200      1   \n",
       "3      33    male  22.705         0     no  northwest  21984.47061      1   \n",
       "4      32    male  28.880         0     no  northwest   3866.85520      1   \n",
       "...   ...     ...     ...       ...    ...        ...          ...    ...   \n",
       "1333   50    male  30.970         3     no  northwest  10600.54830      1   \n",
       "1334   18  female  31.920         0     no  northeast   2205.98080      0   \n",
       "1335   18  female  36.850         0     no  southeast   1629.83350      0   \n",
       "1336   21  female  25.800         0     no  southwest   2007.94500      0   \n",
       "1337   61  female  29.070         0    yes  northwest  29141.36030      0   \n",
       "\n",
       "      smoker_N  region_N  \n",
       "0            1         3  \n",
       "1            0         2  \n",
       "2            0         2  \n",
       "3            0         1  \n",
       "4            0         1  \n",
       "...        ...       ...  \n",
       "1333         0         1  \n",
       "1334         0         0  \n",
       "1335         0         2  \n",
       "1336         0         3  \n",
       "1337         1         1  \n",
       "\n",
       "[1338 rows x 10 columns]"
      ]
     },
     "execution_count": 27,
     "metadata": {},
     "output_type": "execute_result"
    }
   ],
   "source": [
    "dsMedical"
   ]
  },
  {
   "cell_type": "markdown",
   "id": "93c30410",
   "metadata": {},
   "source": [
    "## Descripción de la fuente del Dataset"
   ]
  },
  {
   "cell_type": "markdown",
   "id": "db6174bc",
   "metadata": {},
   "source": [
    "El dataset de costo personal medico, se trata de un dataset para práctica de aprendizaje supervisado con regresión lineal. Al tratarse de un dataset de práctica este ya se encuentra limpio, por tanto, no es necesario aplicar ingeniería de características. El dataset cuenta con una variable objetivo que es el costo personal dependiendo de las diferentes variables independientes que serán expresadas en la parte inferior."
   ]
  },
  {
   "cell_type": "markdown",
   "id": "7f868eab",
   "metadata": {},
   "source": [
    "## Explique el problema a resolver. \n",
    "Se requiere predecir el precio de una propiedad basado en las variables antes mencionadas en la descripción, para la solución de ello se requiere usar regresión lineal para hallar una proximidad mas estimada a los precios reales."
   ]
  },
  {
   "cell_type": "markdown",
   "id": "a0b719c1",
   "metadata": {},
   "source": [
    "## Caracterización del Dataset\n",
    "\n",
    "Realice una descripción de los datos con:\n",
    "\n",
    ">- Número de instancias en total.\n",
    ">- Número de atributos de entrada, su significado y tipo.\n",
    ">- Estadísticas de la variable objetivo.\n",
    ">- Estadísticas los atributos en relación con la variable objetivo.\n",
    "\n",
    "**Instancias**\n",
    "El dataset consta de 7 variables donde la variable objetivo es el precio de la propiedad\n",
    "\n",
    "**Atributos de entrada y significado**\n",
    ">- age = Discreto, edad de la persona\n",
    ">- sex = Categorico, sexo de la persona.\n",
    ">- bmi = Continuo, indice de masa corporal.\n",
    ">- children = Discreto, número de hijos.\n",
    ">- smoker = Categorico booleano, es fumador o no es fumador\n",
    ">- region = Categorico, de que region es la persona\n",
    "\n",
    "\n"
   ]
  },
  {
   "cell_type": "code",
   "execution_count": 28,
   "id": "e1a00481",
   "metadata": {},
   "outputs": [
    {
     "data": {
      "text/plain": [
       "<AxesSubplot:>"
      ]
     },
     "execution_count": 28,
     "metadata": {},
     "output_type": "execute_result"
    },
    {
     "data": {
      "image/png": "[encoded data removed]",
      "text/plain": [
       "<Figure size 432x288 with 1 Axes>"
      ]
     },
     "metadata": {
      "needs_background": "light"
     },
     "output_type": "display_data"
    }
   ],
   "source": [
    "#Estadísticas de la variable objetivo\n",
    "dsMedical['charges'].hist()"
   ]
  },
  {
   "cell_type": "code",
   "execution_count": 29,
   "id": "2f0ed5d2",
   "metadata": {},
   "outputs": [
    {
     "data": {
      "image/png": "[encoded data removed]",
      "text/plain": [
       "<Figure size 720x360 with 1 Axes>"
      ]
     },
     "metadata": {
      "needs_background": "light"
     },
     "output_type": "display_data"
    },
    {
     "data": {
      "image/png": "[encoded data removed]",
      "text/plain": [
       "<Figure size 720x360 with 1 Axes>"
      ]
     },
     "metadata": {
      "needs_background": "light"
     },
     "output_type": "display_data"
    },
    {
     "data": {
      "image/png": "[encoded data removed]",
      "text/plain": [
       "<Figure size 720x360 with 1 Axes>"
      ]
     },
     "metadata": {
      "needs_background": "light"
     },
     "output_type": "display_data"
    },
    {
     "data": {
      "image/png": "[encoded data removed]",
      "text/plain": [
       "<Figure size 720x360 with 1 Axes>"
      ]
     },
     "metadata": {
      "needs_background": "light"
     },
     "output_type": "display_data"
    },
    {
     "data": {
      "image/png": "[encoded data removed]",
      "text/plain": [
       "<Figure size 720x360 with 1 Axes>"
      ]
     },
     "metadata": {
      "needs_background": "light"
     },
     "output_type": "display_data"
    },
    {
     "data": {
      "image/png": "[encoded data removed]",
      "text/plain": [
       "<Figure size 720x360 with 1 Axes>"
      ]
     },
     "metadata": {
      "needs_background": "light"
     },
     "output_type": "display_data"
    }
   ],
   "source": [
    "#Estadísticas de los antributos en relación con la variable objetivo\n",
    "ContinuousCols=['age','sex_N','bmi','children','smoker_N','region_N']\n",
    "for predictor in ContinuousCols:\n",
    "    dsMedical.plot.scatter(x=predictor, y='charges', figsize=(10,5), title=predictor+\" VS \"+ 'charges')"
   ]
  },
  {
   "cell_type": "markdown",
   "id": "a7ab5e48",
   "metadata": {},
   "source": [
    "Por alguna razón para este dataset el número de hijos no es muy influyente al incremente de costo medicos por personas. A diferencia de la edad, pues, conforme va aumentando la edad aumenta el costo del mínimo. Las demás variables excepto el sexo y la región, si influyen activamente a que el costo médico cambie al final. "
   ]
  },
  {
   "cell_type": "markdown",
   "id": "49815fde",
   "metadata": {
    "ExecuteTime": {
     "end_time": "2022-03-14T15:56:34.366469Z",
     "start_time": "2022-03-14T15:56:34.358471Z"
    }
   },
   "source": [
    "## División del dataset en datos de entrenamiento y datos de test "
   ]
  },
  {
   "cell_type": "code",
   "execution_count": 69,
   "id": "6f26d21e",
   "metadata": {},
   "outputs": [
    {
     "data": {
      "text/plain": [
       "((936, 6), (402, 6))"
      ]
     },
     "execution_count": 69,
     "metadata": {},
     "output_type": "execute_result"
    }
   ],
   "source": [
    "#Se asignan las columnas a dos variables que serán la variable objetivo y de entrada\n",
    "VariableObjetivo=['charges']\n",
    "VariablesEntrada=['age', 'sex_N', 'bmi', 'children', 'smoker_N', 'region_N']\n",
    "\n",
    "#Se asignan las columnas a dos variables para generalizar\n",
    "X=dsMedical[VariablesEntrada].values\n",
    "y=dsMedical[VariableObjetivo].values\n",
    "\n",
    "#Se importa la libreria que permita realizar la división del dataframe en train y test \n",
    "from sklearn.model_selection import train_test_split\n",
    "\n",
    "#Se realiza la división del dataset 70% para train y 30% para test\n",
    "X_train, X_test, y_train, y_test = train_test_split(X, y, test_size=0.3, random_state=2)\n",
    "\n",
    "X_train.shape, X_test.shape\n"
   ]
  },
  {
   "cell_type": "markdown",
   "id": "6319adad",
   "metadata": {},
   "source": [
    "## Regresión Lineal"
   ]
  },
  {
   "cell_type": "code",
   "execution_count": 70,
   "id": "d5d2b2c6",
   "metadata": {},
   "outputs": [],
   "source": [
    "#Códo del modelo\n",
    "Rlineal = LinearRegression()"
   ]
  },
  {
   "cell_type": "code",
   "execution_count": 71,
   "id": "33f5be2a",
   "metadata": {
    "ExecuteTime": {
     "end_time": "2022-04-25T07:21:39.020596Z",
     "start_time": "2022-04-25T07:21:39.005596Z"
    }
   },
   "outputs": [],
   "source": [
    "#Entrenamiento\n",
    "RL = Rlineal.fit(X_train,y_train)"
   ]
  },
  {
   "cell_type": "code",
   "execution_count": 72,
   "id": "a2e675b3",
   "metadata": {},
   "outputs": [
    {
     "name": "stdout",
     "output_type": "stream",
     "text": [
      "[[ 2.02608979e+03]\n",
      " [ 1.20507841e+04]\n",
      " [ 1.04921330e+04]\n",
      " [ 2.49302173e+03]\n",
      " [ 8.31941250e+03]\n",
      " [ 1.14367049e+04]\n",
      " [ 3.48622203e+03]\n",
      " [ 1.35989419e+03]\n",
      " [ 1.19520218e+04]\n",
      " [ 9.67206698e+03]\n",
      " [ 1.14503622e+04]\n",
      " [ 5.35763549e+03]\n",
      " [ 2.95049938e+04]\n",
      " [-2.48372597e+02]\n",
      " [ 1.30521770e+04]\n",
      " [ 1.32515720e+04]\n",
      " [ 4.29597668e+03]\n",
      " [ 8.01020318e+03]\n",
      " [ 2.89698460e+04]\n",
      " [ 3.09798751e+03]\n",
      " [ 1.23535332e+04]\n",
      " [ 1.91619908e+03]\n",
      " [ 3.35553389e+04]\n",
      " [ 3.17588653e+04]\n",
      " [ 3.00973589e+04]\n",
      " [ 8.24819529e+03]\n",
      " [ 2.51477781e+03]\n",
      " [ 1.55847964e+04]\n",
      " [ 6.28365677e+03]\n",
      " [ 2.04819304e+03]\n",
      " [ 9.78710532e+03]\n",
      " [ 5.89204142e+03]\n",
      " [ 4.01084592e+03]\n",
      " [ 4.90345937e+03]\n",
      " [ 9.73944860e+03]\n",
      " [ 5.04646500e+03]\n",
      " [ 2.98042637e+04]\n",
      " [ 6.25834976e+03]\n",
      " [ 2.72304583e+04]\n",
      " [ 1.39780589e+04]\n",
      " [ 3.03013569e+02]\n",
      " [ 2.74321178e+04]\n",
      " [ 7.76323797e+03]\n",
      " [ 1.09412926e+03]\n",
      " [ 1.05663495e+04]\n",
      " [ 7.71047976e+03]\n",
      " [ 1.14876649e+04]\n",
      " [ 8.48749838e+03]\n",
      " [ 1.11697412e+04]\n",
      " [ 1.32506430e+04]\n",
      " [ 6.53137086e+03]\n",
      " [-1.28626709e+03]\n",
      " [ 2.58530514e+04]\n",
      " [ 3.64133294e+04]\n",
      " [ 6.90930418e+03]\n",
      " [ 1.76114266e+04]\n",
      " [ 8.68911311e+02]\n",
      " [ 1.12573402e+04]\n",
      " [ 1.78751865e+03]\n",
      " [ 3.36746463e+04]\n",
      " [ 1.12557667e+04]\n",
      " [ 3.70257913e+02]\n",
      " [ 4.08409456e+03]\n",
      " [ 3.55762649e+04]\n",
      " [-1.59694911e+03]\n",
      " [ 1.43921449e+04]\n",
      " [ 1.42636691e+04]\n",
      " [ 3.75102230e+03]\n",
      " [ 1.29621109e+04]\n",
      " [ 1.12667375e+04]\n",
      " [ 1.10338797e+04]\n",
      " [ 1.63544180e+04]\n",
      " [ 9.96954541e+03]\n",
      " [ 9.58949637e+03]\n",
      " [ 1.56028705e+04]\n",
      " [ 1.19475706e+04]\n",
      " [ 4.13190905e+03]\n",
      " [ 3.67872221e+03]\n",
      " [ 5.56062910e+03]\n",
      " [ 1.31379341e+04]\n",
      " [ 8.41139595e+03]\n",
      " [ 1.24092643e+04]\n",
      " [ 1.00800787e+04]\n",
      " [ 2.67416165e+04]\n",
      " [ 1.26833684e+04]\n",
      " [ 3.96266413e+03]\n",
      " [ 3.79901994e+04]\n",
      " [ 1.08251768e+04]\n",
      " [ 8.38371762e+03]\n",
      " [ 1.14267744e+04]\n",
      " [ 1.15259159e+04]\n",
      " [ 1.44857149e+04]\n",
      " [ 1.12638828e+04]\n",
      " [ 1.36440777e+04]\n",
      " [ 6.02254247e+03]\n",
      " [ 2.53535615e+04]\n",
      " [ 5.15655719e+03]\n",
      " [ 1.07144801e+04]\n",
      " [ 3.21054245e+03]\n",
      " [ 2.85629318e+04]\n",
      " [ 7.27936369e+03]\n",
      " [ 3.73432710e+03]\n",
      " [ 2.12461890e+03]\n",
      " [ 1.61517797e+04]\n",
      " [ 7.83189081e+03]\n",
      " [ 9.47431251e+03]\n",
      " [ 9.91725835e+03]\n",
      " [ 5.28156674e+03]\n",
      " [ 1.54055403e+04]\n",
      " [ 3.37146608e+04]\n",
      " [ 4.18788834e+03]\n",
      " [ 1.08476526e+04]\n",
      " [ 2.46149020e+04]\n",
      " [ 1.54982809e+04]\n",
      " [ 2.44210324e+03]\n",
      " [ 1.00854119e+04]\n",
      " [ 8.81090144e+03]\n",
      " [ 6.27655124e+03]\n",
      " [ 1.12499557e+04]\n",
      " [ 2.84745806e+04]\n",
      " [ 5.87097108e+03]\n",
      " [ 6.67363239e+03]\n",
      " [ 1.62234622e+04]\n",
      " [ 1.68048896e+04]\n",
      " [ 8.74079964e+03]\n",
      " [ 2.62886076e+04]\n",
      " [ 3.45471316e+04]\n",
      " [ 1.14203668e+04]\n",
      " [ 8.01196878e+03]\n",
      " [ 9.81003503e+03]\n",
      " [ 8.28955023e+03]\n",
      " [ 3.51955664e+03]\n",
      " [ 3.05581230e+03]\n",
      " [ 4.69146635e+03]\n",
      " [ 8.35481712e+03]\n",
      " [ 8.70916848e+03]\n",
      " [ 7.32414546e+03]\n",
      " [ 2.85099476e+04]\n",
      " [ 3.42153447e+04]\n",
      " [ 4.03574285e+03]\n",
      " [ 2.69684304e+04]\n",
      " [ 4.32041868e+03]\n",
      " [ 6.73510532e+03]\n",
      " [ 1.35013369e+04]\n",
      " [ 7.53216740e+03]\n",
      " [ 3.62596676e+04]\n",
      " [ 1.18015955e+04]\n",
      " [ 1.11486930e+04]\n",
      " [ 8.18956275e+03]\n",
      " [ 2.20707727e+01]\n",
      " [ 6.18905077e+03]\n",
      " [ 7.53117006e+03]\n",
      " [ 5.08443725e+03]\n",
      " [ 1.10383637e+04]\n",
      " [ 1.13906592e+04]\n",
      " [ 1.55989890e+04]\n",
      " [ 6.40987332e+03]\n",
      " [ 2.76895772e+04]\n",
      " [ 1.89928894e+03]\n",
      " [ 1.19346742e+04]\n",
      " [ 1.75318437e+04]\n",
      " [ 1.39730447e+04]\n",
      " [ 8.96839086e+03]\n",
      " [ 2.89324141e+03]\n",
      " [ 4.47640892e+03]\n",
      " [ 9.14758958e+03]\n",
      " [ 1.92740658e+04]\n",
      " [ 2.81531221e+04]\n",
      " [ 1.29412186e+04]\n",
      " [ 3.18153637e+03]\n",
      " [ 3.26505243e+04]\n",
      " [ 1.26818958e+04]\n",
      " [ 3.30006195e+04]\n",
      " [ 3.42668419e+04]\n",
      " [ 1.16776411e+04]\n",
      " [ 7.05932465e+03]\n",
      " [ 3.14414196e+03]\n",
      " [ 3.09798751e+03]\n",
      " [ 1.18531174e+04]\n",
      " [ 7.51529798e+03]\n",
      " [ 2.90938832e+03]\n",
      " [ 1.09063960e+03]\n",
      " [ 3.11000237e+04]\n",
      " [ 7.16077880e+03]\n",
      " [ 5.94110373e+03]\n",
      " [ 2.67718543e+04]\n",
      " [ 7.25011618e+03]\n",
      " [ 2.90686029e+03]\n",
      " [ 8.11512257e+03]\n",
      " [ 3.47297011e+04]\n",
      " [ 8.00027748e+03]\n",
      " [ 4.61861765e+03]\n",
      " [ 9.74474679e+03]\n",
      " [ 2.68707618e+04]\n",
      " [ 6.35919110e+03]\n",
      " [ 3.97910601e+04]\n",
      " [ 3.62731907e+04]\n",
      " [ 1.35511763e+04]\n",
      " [ 2.63904933e+04]\n",
      " [ 1.23668844e+04]\n",
      " [ 3.72869262e+04]\n",
      " [ 7.23627442e+03]\n",
      " [ 4.21849660e+03]\n",
      " [ 2.03296531e+03]\n",
      " [ 1.46390946e+04]\n",
      " [ 1.38121105e+04]\n",
      " [ 2.75022276e+03]\n",
      " [ 3.51460392e+04]\n",
      " [ 1.23474964e+04]\n",
      " [ 8.76912290e+03]\n",
      " [ 6.74970155e+02]\n",
      " [ 3.02928622e+04]\n",
      " [ 3.95948882e+03]\n",
      " [ 3.86433135e+03]\n",
      " [ 1.23455524e+04]\n",
      " [ 1.49185680e+04]\n",
      " [ 2.86419731e+04]\n",
      " [-6.02278167e+02]\n",
      " [ 3.56554735e+03]\n",
      " [ 8.37859058e+03]\n",
      " [ 3.97491176e+04]\n",
      " [ 8.66476035e+03]\n",
      " [ 3.51696243e+04]\n",
      " [ 2.62311781e+04]\n",
      " [ 1.35615986e+04]\n",
      " [ 2.85702266e+04]\n",
      " [ 1.73755319e+04]\n",
      " [ 7.73823014e+03]\n",
      " [ 1.63174351e+04]\n",
      " [ 7.42226750e+03]\n",
      " [ 1.06925984e+04]\n",
      " [ 3.21539502e+03]\n",
      " [ 8.42520919e+03]\n",
      " [ 1.82451900e+03]\n",
      " [ 3.22980229e+04]\n",
      " [ 3.15734169e+04]\n",
      " [ 1.43645939e+04]\n",
      " [ 1.11173409e+04]\n",
      " [ 1.59001859e+03]\n",
      " [ 6.23133482e+03]\n",
      " [ 1.07806476e+04]\n",
      " [ 4.50555084e+03]\n",
      " [ 1.04627551e+04]\n",
      " [ 4.60638395e+02]\n",
      " [ 3.41872664e+04]\n",
      " [ 3.17920748e+04]\n",
      " [ 1.03490489e+04]\n",
      " [ 2.59683145e+04]\n",
      " [ 1.27338450e+04]\n",
      " [ 2.28174598e+03]\n",
      " [ 1.07825925e+04]\n",
      " [ 3.16357594e+03]\n",
      " [ 8.25415384e+03]\n",
      " [ 1.01539213e+04]\n",
      " [ 1.67002747e+04]\n",
      " [ 5.90284328e+03]\n",
      " [ 1.03305862e+04]\n",
      " [-1.68978844e+01]\n",
      " [-1.91896228e+03]\n",
      " [ 1.47535090e+03]\n",
      " [ 2.73565925e+04]\n",
      " [ 3.33857896e+04]\n",
      " [ 3.74258883e+04]\n",
      " [-2.15674166e+03]\n",
      " [ 1.62463481e+04]\n",
      " [ 3.61929514e+04]\n",
      " [ 1.31807660e+04]\n",
      " [ 3.33702321e+04]\n",
      " [ 1.07715296e+03]\n",
      " [ 9.30641422e+03]\n",
      " [ 1.26652849e+04]\n",
      " [ 1.68251577e+03]\n",
      " [ 1.09497061e+04]\n",
      " [ 3.84060104e+04]\n",
      " [ 8.39325658e+03]\n",
      " [ 1.24824294e+04]\n",
      " [ 9.59031973e+03]\n",
      " [ 3.21775636e+04]\n",
      " [ 9.42436419e+03]\n",
      " [ 3.11666431e+04]\n",
      " [ 3.19211404e+03]\n",
      " [ 6.39526638e+03]\n",
      " [ 1.78906451e+03]\n",
      " [ 5.54289971e+03]\n",
      " [ 3.83424593e+04]\n",
      " [ 2.48207075e+04]\n",
      " [ 3.44119378e+04]\n",
      " [ 1.11249196e+04]\n",
      " [ 1.36316955e+04]\n",
      " [ 1.84601642e+04]\n",
      " [ 5.47606561e+03]\n",
      " [ 7.36427400e+03]\n",
      " [ 1.20050927e+04]\n",
      " [ 1.49583457e+04]\n",
      " [ 4.17487601e+03]\n",
      " [ 2.79732983e+03]\n",
      " [ 9.25796997e+03]\n",
      " [ 8.30019132e+03]\n",
      " [ 1.00223230e+04]\n",
      " [ 7.92233027e+03]\n",
      " [ 2.95990978e+03]\n",
      " [ 1.00679035e+04]\n",
      " [ 3.00154514e+04]\n",
      " [ 6.23601137e+03]\n",
      " [ 4.50338305e+03]\n",
      " [ 3.75886256e+03]\n",
      " [ 1.01788793e+04]\n",
      " [ 1.05416418e+04]\n",
      " [ 3.82136466e+04]\n",
      " [ 8.27472663e+03]\n",
      " [ 1.38668725e+04]\n",
      " [ 1.20436065e+04]\n",
      " [ 9.75075925e+03]\n",
      " [ 1.00628788e+03]\n",
      " [ 2.85851062e+04]\n",
      " [ 1.37890741e+04]\n",
      " [ 1.27678554e+04]\n",
      " [ 1.61490045e+04]\n",
      " [ 1.02074297e+04]\n",
      " [ 9.92257180e+03]\n",
      " [ 1.39431194e+04]\n",
      " [ 2.69339102e+04]\n",
      " [ 1.39200788e+04]\n",
      " [ 5.62632319e+03]\n",
      " [ 5.45170511e+03]\n",
      " [ 9.97685042e+03]\n",
      " [ 6.63787154e+03]\n",
      " [ 1.08993007e+04]\n",
      " [ 7.55483425e+03]\n",
      " [ 4.73839851e+03]\n",
      " [ 1.59233469e+04]\n",
      " [ 2.46826266e+04]\n",
      " [ 5.76580549e+03]\n",
      " [ 1.78461629e+04]\n",
      " [ 8.19170798e+03]\n",
      " [ 4.14740235e+03]\n",
      " [ 2.71116382e+04]\n",
      " [ 3.19240668e+04]\n",
      " [ 1.15796625e+04]\n",
      " [ 5.45031991e+03]\n",
      " [ 1.29364131e+04]\n",
      " [ 3.15190688e+04]\n",
      " [ 8.20952354e+02]\n",
      " [ 1.05620610e+04]\n",
      " [ 3.39913611e+04]\n",
      " [ 1.15468683e+04]\n",
      " [ 5.21887887e+03]\n",
      " [ 2.92224981e+04]\n",
      " [ 7.88762279e+03]\n",
      " [ 1.28126522e+04]\n",
      " [ 1.01942749e+04]\n",
      " [ 7.90424386e+03]\n",
      " [ 5.38821523e+03]\n",
      " [ 1.07438538e+04]\n",
      " [ 3.79426719e+03]\n",
      " [ 8.30114700e+03]\n",
      " [ 8.44461770e+03]\n",
      " [ 7.58710358e+03]\n",
      " [ 3.26915384e+04]\n",
      " [ 4.69482779e+03]\n",
      " [ 1.60167886e+04]\n",
      " [ 1.27041346e+04]\n",
      " [ 1.09688533e+04]\n",
      " [ 9.54677558e+03]\n",
      " [ 3.83409736e+04]\n",
      " [ 1.40508994e+04]\n",
      " [ 3.65919909e+04]\n",
      " [ 1.41954235e+04]\n",
      " [ 2.38572084e+03]\n",
      " [ 3.08517133e+04]\n",
      " [ 9.57769099e+03]\n",
      " [ 7.48252202e+03]\n",
      " [ 7.75338064e+03]\n",
      " [ 2.64261694e+04]\n",
      " [ 3.66990452e+04]\n",
      " [ 8.45552127e+03]\n",
      " [ 1.05548505e+04]\n",
      " [ 4.05789628e+04]\n",
      " [ 3.61522915e+03]\n",
      " [ 1.49258722e+04]\n",
      " [ 3.81896968e+03]\n",
      " [ 2.91187288e+04]\n",
      " [ 7.85706955e+03]\n",
      " [ 1.71253692e+04]\n",
      " [ 1.43839534e+04]\n",
      " [ 2.34282714e+03]\n",
      " [ 3.59361616e+04]\n",
      " [ 1.16250242e+04]\n",
      " [ 1.67500330e+03]\n",
      " [ 1.21218783e+04]\n",
      " [ 5.31261986e+03]\n",
      " [ 1.55398375e+04]\n",
      " [ 3.59432659e+03]\n",
      " [ 3.55401062e+04]\n",
      " [ 6.34092346e+03]\n",
      " [ 9.02130974e+03]\n",
      " [ 7.30992089e+03]\n",
      " [ 4.15875361e+03]\n",
      " [ 1.14312580e+04]\n",
      " [ 3.32289375e+04]\n",
      " [ 3.59359182e+04]\n",
      " [ 7.03524403e+03]]\n"
     ]
    }
   ],
   "source": [
    "#Test\n",
    "RLP =RL.predict(X_test)\n",
    "print(RLP)"
   ]
  },
  {
   "cell_type": "markdown",
   "id": "9c2239f5",
   "metadata": {},
   "source": [
    "## Evaluación del Modelo"
   ]
  },
  {
   "cell_type": "markdown",
   "id": "ad219a0c",
   "metadata": {},
   "source": [
    "Construya un o dos párrafos con los principales hallazgos. Cómo está funcionando el modelo? Calidad en los resultados de predicción. "
   ]
  },
  {
   "cell_type": "code",
   "execution_count": 73,
   "id": "6c23b594",
   "metadata": {},
   "outputs": [
    {
     "name": "stdout",
     "output_type": "stream",
     "text": [
      "0.7648415301644244\n"
     ]
    }
   ],
   "source": [
    "#Se evalua el modelo usando una caracteristica llamada score ofrecida por la misma libreria de regresión lineal de sklearn\n",
    "accuracy = RL.score(X_test, y_test)\n",
    "print(accuracy)"
   ]
  },
  {
   "cell_type": "code",
   "execution_count": null,
   "id": "4e178f34",
   "metadata": {},
   "outputs": [],
   "source": []
  }
 ],
 "metadata": {
  "kernelspec": {
   "display_name": "Python 3 (ipykernel)",
   "language": "python",
   "name": "python3"
  },
  "language_info": {
   "codemirror_mode": {
    "name": "ipython",
    "version": 3
   },
   "file_extension": ".py",
   "mimetype": "text/x-python",
   "name": "python",
   "nbconvert_exporter": "python",
   "pygments_lexer": "ipython3",
   "version": "3.9.12"
  },
  "toc": {
   "base_numbering": 1,
   "nav_menu": {},
   "number_sections": true,
   "sideBar": true,
   "skip_h1_title": true,
   "title_cell": "Tabla de Contenido",
   "title_sidebar": "Contenido",
   "toc_cell": false,
   "toc_position": {
    "height": "calc(100% - 180px)",
    "left": "10px",
    "top": "150px",
    "width": "263.591px"
   },
   "toc_section_display": true,
   "toc_window_display": true
  }
 },
 "nbformat": 4,
 "nbformat_minor": 5
}
